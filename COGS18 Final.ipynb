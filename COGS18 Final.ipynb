{
 "cells": [
  {
   "cell_type": "code",
   "execution_count": 1,
   "metadata": {},
   "outputs": [],
   "source": [
    "from my_module import functions"
   ]
  },
  {
   "cell_type": "markdown",
   "metadata": {},
   "source": [
    "## Turn-Based Snake by Griffin Goldberg"
   ]
  },
  {
   "cell_type": "markdown",
   "metadata": {},
   "source": [
    "For this project, I decided to put my own twist on the classic game of Snake.\n",
    "Snake is a game where the player controls a snake that moves around a grid and tries to eat food to gain points,\n",
    "however when the player eats food their snake gets longer and if the snake runs into itself, the player \n",
    "looses. To win the game, the player has to have their snake fill up the entire board, becoming as big as\n",
    "possible in the process.\n",
    "\n",
    "In the standard version, the game updates in real time, testing the player's reaction and timing.\n",
    "I decided to make a version of Snake that only tests the player's strategy and ability to plan ahead.\n",
    "\n",
    "My version of Snake, Turn-Based Snake, plays nearly identical to the classical version, however I give\n",
    "the player unlimited time to choose which direction to move, allowing the player to be more strategical with\n",
    "their movements.\n",
    "\n",
    "In addition to creating the game and a basic User-Interface, I also created an AI that can\n",
    "play the game on its own. Its behavior is based on a simple algorithm called a Hamiltonian\n",
    "Cycle. A Hamiltonian Cycle is a pattern that, in the case of Snake, travels through each point of the grid\n",
    "exactly once and ends up back where it started. I decided to use a Hamiltonian cycle for my AI as it is a\n",
    "simple method to ensure it always wins."
   ]
  },
  {
   "cell_type": "markdown",
   "metadata": {},
   "source": [
    "### Controls and U.I.\n",
    "The player uses the 'w,a,s,d' keys to move the snake.\n",
    "\n",
    "Empty spaces are denoted by a *.\n",
    "\n",
    "The snake head is denoted by the @.\n",
    "\n",
    "The body of the snake is denoted by 0.\n",
    "\n",
    "and the Food is represented by the F."
   ]
  },
  {
   "cell_type": "markdown",
   "metadata": {},
   "source": [
    "Here is the standard version of my game, designed for a human player. I am demonstrating a 4x4 game, but it is possible to have a bigger board."
   ]
  },
  {
   "cell_type": "code",
   "execution_count": null,
   "metadata": {},
   "outputs": [
    {
     "name": "stdout",
     "output_type": "stream",
     "text": [
      "1\n",
      "* * * *\n",
      "* * F *\n",
      "* @ 0 *\n",
      "* * * *\n"
     ]
    }
   ],
   "source": [
    "game_manager_1 = functions.game_manager(4)\n",
    "game_manager_1.play_game()"
   ]
  },
  {
   "cell_type": "markdown",
   "metadata": {},
   "source": [
    "Below is the version of my game designed for my AI's. I have only designed the AI to win on a 16x16 grid, otherwise it will just run into a wall and die."
   ]
  },
  {
   "cell_type": "code",
   "execution_count": 2,
   "metadata": {},
   "outputs": [
    {
     "name": "stdout",
     "output_type": "stream",
     "text": [
      "\n",
      "\n",
      "0 0 0 0 0 0 0 0 0 0 0 0 0 0 0 0\n",
      "0 0 0 0 0 0 0 0 0 0 0 0 0 0 0 0\n",
      "0 0 0 0 0 0 0 0 0 0 0 0 0 0 0 0\n",
      "0 0 0 0 0 0 0 0 0 0 0 0 0 0 0 0\n",
      "0 0 0 0 0 0 0 0 0 0 0 0 0 0 0 0\n",
      "0 0 0 0 0 0 0 0 0 0 0 0 0 0 0 0\n",
      "0 0 0 0 0 0 0 0 0 0 0 0 0 0 0 0\n",
      "0 0 0 0 0 0 0 0 0 0 0 0 0 0 0 0\n",
      "0 0 0 0 0 0 0 0 0 0 0 0 0 0 0 0\n",
      "0 0 0 0 0 0 0 0 @ 0 0 0 0 0 0 0\n",
      "0 0 0 0 0 0 0 0 * 0 0 0 0 0 0 0\n",
      "0 0 0 0 0 0 0 0 0 0 0 0 0 0 0 0\n",
      "0 0 0 0 0 0 0 0 0 0 0 0 0 0 0 0\n",
      "0 0 0 0 0 0 0 0 0 0 0 0 0 0 0 0\n",
      "0 0 0 0 0 0 0 0 0 0 0 0 0 0 0 0\n",
      "0 0 0 0 0 0 0 0 0 0 0 0 0 0 0 0\n",
      "AI Won!\n",
      "30.876505136489868\n"
     ]
    }
   ],
   "source": [
    "game_manager_2 = functions.game_manager(16)\n",
    "game_manager_2.play_ai_game()"
   ]
  },
  {
   "cell_type": "markdown",
   "metadata": {},
   "source": [
    "### Extra Credit\n",
    "The project I have created was difficult for me to complete. I have created a file containing multiple classes with multiple functions in each class. The file itself is over 500 lines long, all of it being original code of my own creation. Researching how to create an AI for Snake was especially time-consuming and I had to reasearch some basic discrete math while designing my algorithm. \n",
    "\n",
    "Link to GitHub: https://github.com/gtgoldbe/COGS18-Final"
   ]
  }
 ],
 "metadata": {
  "kernelspec": {
   "display_name": "Python 3",
   "language": "python",
   "name": "python3"
  },
  "language_info": {
   "codemirror_mode": {
    "name": "ipython",
    "version": 3
   },
   "file_extension": ".py",
   "mimetype": "text/x-python",
   "name": "python",
   "nbconvert_exporter": "python",
   "pygments_lexer": "ipython3",
   "version": "3.7.4"
  }
 },
 "nbformat": 4,
 "nbformat_minor": 2
}
